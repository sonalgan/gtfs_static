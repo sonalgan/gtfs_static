{
 "cells": [
  {
   "cell_type": "markdown",
   "metadata": {},
   "source": [
    "# BMTC Bus Schedule Converter\n",
    "\n",
    "---\n",
    "\n",
    "## Instructions\n",
    "\n",
    "1. **Upload Your BMTC Bus Schedule Excel File**: Use the file upload widget below to upload your BMTC bus schedule Excel file (.xlsx).\n",
    "2. **Convert to GTFS**: After uploading the file, click the \"Convert to GTFS\" button to start the conversion process.\n",
    "3. **Download Converted GTFS Files**: Once the conversion is complete, a download link will be provided for the zip file containing the converted GTFS files.\n",
    "\n",
    "---"
   ]
  },
  {
   "cell_type": "code",
   "execution_count": 20,
   "metadata": {},
   "outputs": [
    {
     "data": {
      "application/vnd.jupyter.widget-view+json": {
       "model_id": "5981d4adaf744a4d990b47e135c0a0e4",
       "version_major": 2,
       "version_minor": 0
      },
      "text/plain": [
       "FileUpload(value={}, accept='.xlsx', description='Upload Excel File')"
      ]
     },
     "metadata": {},
     "output_type": "display_data"
    },
    {
     "data": {
      "application/vnd.jupyter.widget-view+json": {
       "model_id": "74cbd0a7200345ed8fbf10b27469d210",
       "version_major": 2,
       "version_minor": 0
      },
      "text/plain": [
       "Button(button_style='primary', description='Convert to GTFS', style=ButtonStyle())"
      ]
     },
     "metadata": {},
     "output_type": "display_data"
    },
    {
     "data": {
      "application/vnd.jupyter.widget-view+json": {
       "model_id": "de158a9fcd0a465f981d3e7508c407bf",
       "version_major": 2,
       "version_minor": 0
      },
      "text/plain": [
       "IntProgress(value=0, description='Progress:', style=ProgressStyle(bar_color='blue'))"
      ]
     },
     "metadata": {},
     "output_type": "display_data"
    },
    {
     "data": {
      "application/vnd.jupyter.widget-view+json": {
       "model_id": "298bc8f656d34ed9b1d642ed94b536f4",
       "version_major": 2,
       "version_minor": 0
      },
      "text/plain": [
       "Output()"
      ]
     },
     "metadata": {},
     "output_type": "display_data"
    },
    {
     "data": {
      "application/vnd.jupyter.widget-view+json": {
       "model_id": "c1e88bba1b9f4838a28278125de96f16",
       "version_major": 2,
       "version_minor": 0
      },
      "text/plain": [
       "Output()"
      ]
     },
     "metadata": {},
     "output_type": "display_data"
    }
   ],
   "source": [
    "#############\n",
    "! pip install -r requirements.txt\n",
    "import ipywidgets as widgets\n",
    "from IPython.display import display, HTML\n",
    "import pandas as pd\n",
    "import os\n",
    "import shutil\n",
    "import tempfile\n",
    "import subprocess\n",
    "import base64\n",
    "from zipfile import ZipFile\n",
    "\n",
    "# Define file upload widget\n",
    "uploader = widgets.FileUpload(accept='.xlsx', multiple=False, description=\"Upload Excel File\")\n",
    "\n",
    "# Define convert button\n",
    "convert_button = widgets.Button(description=\"Convert to GTFS\", button_style='primary')\n",
    "\n",
    "# Define output widget\n",
    "output = widgets.Output()\n",
    "\n",
    "# Define download link widget\n",
    "download_link = widgets.Output()\n",
    "\n",
    "# Define progress bar\n",
    "progress_bar = widgets.IntProgress(value=0, min=0, max=100, description='Progress:', style={'bar_color': 'blue'})\n",
    "\n",
    "# Function to handle file upload event\n",
    "def handle_upload(change):\n",
    "    with output:\n",
    "        output.clear_output()\n",
    "        uploaded_filename = next(iter(uploader.value))\n",
    "        content = uploader.value[uploaded_filename]['content']\n",
    "        global excel_data\n",
    "        excel_data = pd.read_excel(content)\n",
    "        print(\"File uploaded successfully.\")\n",
    "\n",
    "# Function to convert Excel to GTFS and create a zip file\n",
    "def convert_to_gtfs(b):\n",
    "    with output:\n",
    "        output.clear_output()\n",
    "        if 'excel_data' not in globals():\n",
    "            print(\"Please upload a file first.\")\n",
    "            return\n",
    "        \n",
    "        uploaded_filename = next(iter(uploader.value))\n",
    "        content = uploader.value[uploaded_filename]['content']\n",
    "        \n",
    "        try:\n",
    "            # Write the content to a temporary file\n",
    "            with tempfile.NamedTemporaryFile(suffix='.xlsx', delete=False) as temp_file:\n",
    "                temp_file.write(content)\n",
    "                temp_file_path = temp_file.name\n",
    "            \n",
    "            # Define the output folder path\n",
    "            output_folder = os.path.join(os.getcwd(), \"../gtfs_data\")\n",
    "            os.makedirs(output_folder, exist_ok=True)\n",
    "            \n",
    "            # Call the conversion script with input file path and output folder path as arguments\n",
    "            subprocess.run([\"python\", \"../scripts/main.py\", temp_file_path, output_folder], check=True)\n",
    "            \n",
    "            # Remove the temporary file after conversion\n",
    "            os.unlink(temp_file_path)\n",
    "            \n",
    "            print(\"Conversion complete.\")\n",
    "            output_zip_file = \"../gtfs.zip\"\n",
    "\n",
    "            # Zip the gtfs_data folder\n",
    "            with ZipFile(output_zip_file, 'w') as zip_file:\n",
    "                for root, dirs, files in os.walk(output_folder):\n",
    "                    total_files = len(files)\n",
    "                    progress_bar.max = total_files\n",
    "                    for idx, file in enumerate(files, start=1):\n",
    "                        zip_file.write(os.path.join(root, file), arcname=os.path.relpath(os.path.join(root, file), output_folder))\n",
    "                        # Update progress bar value\n",
    "                        progress_bar.value = idx\n",
    "            \n",
    "            # Read the contents of the zip file as bytes\n",
    "            with open(output_zip_file, 'rb') as file:\n",
    "                zip_data = file.read()\n",
    "\n",
    "            # Encode the zip data as base64\n",
    "            b64_zip_data = base64.b64encode(zip_data).decode('utf-8')\n",
    "            with download_link:\n",
    "                download_link.clear_output()\n",
    "                href = f'<a href=\"data:application/zip;base64,{b64_zip_data}\" download={output_zip_file}>Download Converted GTFS</a>'\n",
    "                display(HTML(href))\n",
    "                \n",
    "        except FileNotFoundError as e:\n",
    "            print(\"Error: File not found.\")\n",
    "        except subprocess.CalledProcessError as e:\n",
    "            print(\"Error: Conversion process failed.\")\n",
    "\n",
    "# Event handlers\n",
    "uploader.observe(handle_upload, names='value')\n",
    "convert_button.on_click(convert_to_gtfs)\n",
    "\n",
    "# Display widgets\n",
    "display(uploader)\n",
    "display(convert_button)\n",
    "display(progress_bar)\n",
    "display(output)\n",
    "display(download_link)\n"
   ]
  }
 ],
 "metadata": {
  "kernelspec": {
   "display_name": "Python 3",
   "language": "python",
   "name": "python3"
  },
  "language_info": {
   "codemirror_mode": {
    "name": "ipython",
    "version": 3
   },
   "file_extension": ".py",
   "mimetype": "text/x-python",
   "name": "python",
   "nbconvert_exporter": "python",
   "pygments_lexer": "ipython3",
   "version": "3.10.13"
  }
 },
 "nbformat": 4,
 "nbformat_minor": 2
}
