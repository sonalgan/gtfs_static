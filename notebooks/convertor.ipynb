{
 "cells": [
  {
   "cell_type": "markdown",
   "metadata": {},
   "source": [
    "# BMTC Bus Schedule Converter\n",
    "\n",
    "---\n",
    "\n",
    "## Instructions\n",
    "\n",
    "1. **Upload Your BMTC Bus Schedule Excel File**: Use the file upload widget below to upload your BMTC bus schedule Excel file (.xlsx).\n",
    "2. **Convert to GTFS**: After uploading the file, click the \"Convert to GTFS\" button to start the conversion process.\n",
    "3. **Download Converted GTFS Files**: Once the conversion is complete, a download link will be provided for the zip file containing the converted GTFS files.\n",
    "\n",
    "---"
   ]
  },
  {
   "cell_type": "code",
   "execution_count": 1,
   "metadata": {},
   "outputs": [
    {
     "data": {
      "application/vnd.jupyter.widget-view+json": {
       "model_id": "83b08ffae69d47688238e5970bc9c06a",
       "version_major": 2,
       "version_minor": 0
      },
      "text/plain": [
       "FileUpload(value={}, accept='.xlsx', description='Upload Excel File')"
      ]
     },
     "metadata": {},
     "output_type": "display_data"
    },
    {
     "data": {
      "application/vnd.jupyter.widget-view+json": {
       "model_id": "7ecac2bf29234fb7901f3329b48e3a26",
       "version_major": 2,
       "version_minor": 0
      },
      "text/plain": [
       "Button(button_style='primary', description='Convert to GTFS', style=ButtonStyle())"
      ]
     },
     "metadata": {},
     "output_type": "display_data"
    },
    {
     "data": {
      "application/vnd.jupyter.widget-view+json": {
       "model_id": "80d4046d13a049afa7afad888296389e",
       "version_major": 2,
       "version_minor": 0
      },
      "text/plain": [
       "IntProgress(value=0, description='Progress:', style=ProgressStyle(bar_color='blue'))"
      ]
     },
     "metadata": {},
     "output_type": "display_data"
    },
    {
     "data": {
      "application/vnd.jupyter.widget-view+json": {
       "model_id": "0a6188335a534958aa2d878a83c4d0eb",
       "version_major": 2,
       "version_minor": 0
      },
      "text/plain": [
       "Output()"
      ]
     },
     "metadata": {},
     "output_type": "display_data"
    },
    {
     "data": {
      "application/vnd.jupyter.widget-view+json": {
       "model_id": "10add2dd923d49e7b8a0cb5ae40f346b",
       "version_major": 2,
       "version_minor": 0
      },
      "text/plain": [
       "Output()"
      ]
     },
     "metadata": {},
     "output_type": "display_data"
    }
   ],
   "source": [
    "#############\n",
    "\n",
    "! jupyter nbextension enable --py widgetsnbextension > /dev/null 2>&1\n",
    "import ipywidgets as widgets\n",
    "from IPython.display import display, HTML\n",
    "import pandas as pd\n",
    "import os\n",
    "import shutil\n",
    "import tempfile\n",
    "import subprocess\n",
    "import base64\n",
    "from zipfile import ZipFile\n",
    "\n",
    "# Define file upload widget\n",
    "uploader = widgets.FileUpload(accept='.xlsx', multiple=False, description=\"Upload Excel File\")\n",
    "\n",
    "# Define convert button\n",
    "convert_button = widgets.Button(description=\"Convert to GTFS\", button_style='primary')\n",
    "\n",
    "# Define output widget\n",
    "output = widgets.Output()\n",
    "\n",
    "# Define download link widget\n",
    "download_link = widgets.Output()\n",
    "\n",
    "# Define progress bar\n",
    "progress_bar = widgets.IntProgress(value=0, min=0, max=100, description='Progress:', style={'bar_color': 'blue'})\n",
    "\n",
    "# Function to handle file upload event\n",
    "def handle_upload(change):\n",
    "    with output:\n",
    "        output.clear_output()\n",
    "        uploaded_filename = next(iter(uploader.value))\n",
    "        content = uploader.value[uploaded_filename]['content']\n",
    "        global excel_data\n",
    "        excel_data = pd.read_excel(content)\n",
    "        print(\"File uploaded successfully.\")\n",
    "\n",
    "# Function to convert Excel to GTFS and create a zip file\n",
    "def convert_to_gtfs(b):\n",
    "    with output:\n",
    "        output.clear_output()\n",
    "        if 'excel_data' not in globals():\n",
    "            print(\"Please upload a file first.\")\n",
    "            return\n",
    "        \n",
    "        uploaded_filename = next(iter(uploader.value))\n",
    "        content = uploader.value[uploaded_filename]['content']\n",
    "        \n",
    "        try:\n",
    "            # Write the content to a temporary file\n",
    "            with tempfile.NamedTemporaryFile(suffix='.xlsx', delete=False) as temp_file:\n",
    "                temp_file.write(content)\n",
    "                temp_file_path = temp_file.name\n",
    "            \n",
    "            # Define the output folder path\n",
    "            output_folder = os.path.join(os.getcwd(), \"../gtfs_data\")\n",
    "            os.makedirs(output_folder, exist_ok=True)\n",
    "            \n",
    "            # Call the conversion script with input file path and output folder path as arguments\n",
    "            subprocess.run([\"python\", \"../scripts/main.py\", temp_file_path, output_folder], check=True)\n",
    "            \n",
    "            # Remove the temporary file after conversion\n",
    "            os.unlink(temp_file_path)\n",
    "            \n",
    "            print(\"Conversion complete.\")\n",
    "            output_zip_file = \"../gtfs.zip\"\n",
    "\n",
    "            # Zip the gtfs_data folder\n",
    "            with ZipFile(output_zip_file, 'w') as zip_file:\n",
    "                for root, dirs, files in os.walk(output_folder):\n",
    "                    total_files = len(files)\n",
    "                    progress_bar.max = total_files\n",
    "                    for idx, file in enumerate(files, start=1):\n",
    "                        zip_file.write(os.path.join(root, file), arcname=os.path.relpath(os.path.join(root, file), output_folder))\n",
    "                        # Update progress bar value\n",
    "                        progress_bar.value = idx\n",
    "            \n",
    "            # Read the contents of the zip file as bytes\n",
    "            with open(output_zip_file, 'rb') as file:\n",
    "                zip_data = file.read()\n",
    "\n",
    "            # Encode the zip data as base64\n",
    "            b64_zip_data = base64.b64encode(zip_data).decode('utf-8')\n",
    "            with download_link:\n",
    "                download_link.clear_output()\n",
    "                href = f'<a href=\"data:application/zip;base64,{b64_zip_data}\" download={output_zip_file}>Download Converted GTFS</a>'\n",
    "                display(HTML(href))\n",
    "                \n",
    "        except FileNotFoundError as e:\n",
    "            print(\"Error: File not found.\")\n",
    "        except subprocess.CalledProcessError as e:\n",
    "            print(\"Error: Conversion process failed.\")\n",
    "\n",
    "# Event handlers\n",
    "uploader.observe(handle_upload, names='value')\n",
    "convert_button.on_click(convert_to_gtfs)\n",
    "\n",
    "# Display widgets\n",
    "display(uploader)\n",
    "display(convert_button)\n",
    "display(progress_bar)\n",
    "display(output)\n",
    "display(download_link)\n"
   ]
  },
  {
   "cell_type": "code",
   "execution_count": 3,
   "metadata": {},
   "outputs": [
    {
     "name": "stdout",
     "output_type": "stream",
     "text": [
      "Collecting ipywidgets==7.6.0 (from -r ../requirements.txt (line 1))\n",
      "  Downloading ipywidgets-7.6.0-py2.py3-none-any.whl.metadata (1.8 kB)\n",
      "Requirement already satisfied: jupyterlab>=3.0.0 in /home/codespace/.local/lib/python3.10/site-packages (from -r ../requirements.txt (line 2)) (4.1.5)\n",
      "Requirement already satisfied: numpy==1.24.2 in /usr/local/python/3.10.13/lib/python3.10/site-packages (from -r ../requirements.txt (line 3)) (1.24.2)\n",
      "Requirement already satisfied: pandas==1.5.3 in /usr/local/python/3.10.13/lib/python3.10/site-packages (from -r ../requirements.txt (line 4)) (1.5.3)\n",
      "Requirement already satisfied: tqdm==4.64.0 in /usr/local/python/3.10.13/lib/python3.10/site-packages (from -r ../requirements.txt (line 5)) (4.64.0)\n",
      "Requirement already satisfied: fileupload in /usr/local/python/3.10.13/lib/python3.10/site-packages (from -r ../requirements.txt (line 6)) (0.1.5)\n",
      "Requirement already satisfied: openpyxl in /usr/local/python/3.10.13/lib/python3.10/site-packages (from -r ../requirements.txt (line 7)) (3.1.2)\n",
      "Requirement already satisfied: ipykernel>=4.5.1 in /home/codespace/.local/lib/python3.10/site-packages (from ipywidgets==7.6.0->-r ../requirements.txt (line 1)) (6.29.4)\n",
      "Requirement already satisfied: traitlets>=4.3.1 in /home/codespace/.local/lib/python3.10/site-packages (from ipywidgets==7.6.0->-r ../requirements.txt (line 1)) (5.14.2)\n",
      "Requirement already satisfied: nbformat>=4.2.0 in /home/codespace/.local/lib/python3.10/site-packages (from ipywidgets==7.6.0->-r ../requirements.txt (line 1)) (5.10.3)\n",
      "Requirement already satisfied: widgetsnbextension~=3.5.0 in /usr/local/python/3.10.13/lib/python3.10/site-packages (from ipywidgets==7.6.0->-r ../requirements.txt (line 1)) (3.5.2)\n",
      "Requirement already satisfied: jupyterlab-widgets>=1.0.0 in /usr/local/python/3.10.13/lib/python3.10/site-packages (from ipywidgets==7.6.0->-r ../requirements.txt (line 1)) (3.0.10)\n",
      "Requirement already satisfied: ipython>=4.0.0 in /home/codespace/.local/lib/python3.10/site-packages (from ipywidgets==7.6.0->-r ../requirements.txt (line 1)) (8.23.0)\n",
      "Requirement already satisfied: python-dateutil>=2.8.1 in /home/codespace/.local/lib/python3.10/site-packages (from pandas==1.5.3->-r ../requirements.txt (line 4)) (2.9.0.post0)\n",
      "Requirement already satisfied: pytz>=2020.1 in /home/codespace/.local/lib/python3.10/site-packages (from pandas==1.5.3->-r ../requirements.txt (line 4)) (2024.1)\n",
      "Requirement already satisfied: async-lru>=1.0.0 in /home/codespace/.local/lib/python3.10/site-packages (from jupyterlab>=3.0.0->-r ../requirements.txt (line 2)) (2.0.4)\n",
      "Requirement already satisfied: httpx>=0.25.0 in /home/codespace/.local/lib/python3.10/site-packages (from jupyterlab>=3.0.0->-r ../requirements.txt (line 2)) (0.27.0)\n",
      "Requirement already satisfied: jinja2>=3.0.3 in /home/codespace/.local/lib/python3.10/site-packages (from jupyterlab>=3.0.0->-r ../requirements.txt (line 2)) (3.1.3)\n",
      "Requirement already satisfied: jupyter-core in /home/codespace/.local/lib/python3.10/site-packages (from jupyterlab>=3.0.0->-r ../requirements.txt (line 2)) (5.7.2)\n",
      "Requirement already satisfied: jupyter-lsp>=2.0.0 in /home/codespace/.local/lib/python3.10/site-packages (from jupyterlab>=3.0.0->-r ../requirements.txt (line 2)) (2.2.4)\n",
      "Requirement already satisfied: jupyter-server<3,>=2.4.0 in /home/codespace/.local/lib/python3.10/site-packages (from jupyterlab>=3.0.0->-r ../requirements.txt (line 2)) (2.13.0)\n",
      "Requirement already satisfied: jupyterlab-server<3,>=2.19.0 in /home/codespace/.local/lib/python3.10/site-packages (from jupyterlab>=3.0.0->-r ../requirements.txt (line 2)) (2.25.4)\n",
      "Requirement already satisfied: notebook-shim>=0.2 in /home/codespace/.local/lib/python3.10/site-packages (from jupyterlab>=3.0.0->-r ../requirements.txt (line 2)) (0.2.4)\n",
      "Requirement already satisfied: packaging in /home/codespace/.local/lib/python3.10/site-packages (from jupyterlab>=3.0.0->-r ../requirements.txt (line 2)) (24.0)\n",
      "Requirement already satisfied: tomli in /home/codespace/.local/lib/python3.10/site-packages (from jupyterlab>=3.0.0->-r ../requirements.txt (line 2)) (2.0.1)\n",
      "Requirement already satisfied: tornado>=6.2.0 in /home/codespace/.local/lib/python3.10/site-packages (from jupyterlab>=3.0.0->-r ../requirements.txt (line 2)) (6.4)\n",
      "Requirement already satisfied: notebook>=4.2 in /usr/local/python/3.10.13/lib/python3.10/site-packages (from fileupload->-r ../requirements.txt (line 6)) (7.1.3)\n",
      "Requirement already satisfied: et-xmlfile in /usr/local/python/3.10.13/lib/python3.10/site-packages (from openpyxl->-r ../requirements.txt (line 7)) (1.1.0)\n",
      "Requirement already satisfied: typing-extensions>=4.0.0 in /home/codespace/.local/lib/python3.10/site-packages (from async-lru>=1.0.0->jupyterlab>=3.0.0->-r ../requirements.txt (line 2)) (4.10.0)\n",
      "Requirement already satisfied: anyio in /home/codespace/.local/lib/python3.10/site-packages (from httpx>=0.25.0->jupyterlab>=3.0.0->-r ../requirements.txt (line 2)) (4.3.0)\n",
      "Requirement already satisfied: certifi in /home/codespace/.local/lib/python3.10/site-packages (from httpx>=0.25.0->jupyterlab>=3.0.0->-r ../requirements.txt (line 2)) (2024.2.2)\n",
      "Requirement already satisfied: httpcore==1.* in /home/codespace/.local/lib/python3.10/site-packages (from httpx>=0.25.0->jupyterlab>=3.0.0->-r ../requirements.txt (line 2)) (1.0.5)\n",
      "Requirement already satisfied: idna in /home/codespace/.local/lib/python3.10/site-packages (from httpx>=0.25.0->jupyterlab>=3.0.0->-r ../requirements.txt (line 2)) (3.6)\n",
      "Requirement already satisfied: sniffio in /home/codespace/.local/lib/python3.10/site-packages (from httpx>=0.25.0->jupyterlab>=3.0.0->-r ../requirements.txt (line 2)) (1.3.1)\n",
      "Requirement already satisfied: h11<0.15,>=0.13 in /home/codespace/.local/lib/python3.10/site-packages (from httpcore==1.*->httpx>=0.25.0->jupyterlab>=3.0.0->-r ../requirements.txt (line 2)) (0.14.0)\n",
      "Requirement already satisfied: comm>=0.1.1 in /home/codespace/.local/lib/python3.10/site-packages (from ipykernel>=4.5.1->ipywidgets==7.6.0->-r ../requirements.txt (line 1)) (0.2.2)\n",
      "Requirement already satisfied: debugpy>=1.6.5 in /home/codespace/.local/lib/python3.10/site-packages (from ipykernel>=4.5.1->ipywidgets==7.6.0->-r ../requirements.txt (line 1)) (1.8.1)\n",
      "Requirement already satisfied: jupyter-client>=6.1.12 in /home/codespace/.local/lib/python3.10/site-packages (from ipykernel>=4.5.1->ipywidgets==7.6.0->-r ../requirements.txt (line 1)) (8.6.1)\n",
      "Requirement already satisfied: matplotlib-inline>=0.1 in /home/codespace/.local/lib/python3.10/site-packages (from ipykernel>=4.5.1->ipywidgets==7.6.0->-r ../requirements.txt (line 1)) (0.1.6)\n",
      "Requirement already satisfied: nest-asyncio in /home/codespace/.local/lib/python3.10/site-packages (from ipykernel>=4.5.1->ipywidgets==7.6.0->-r ../requirements.txt (line 1)) (1.6.0)\n",
      "Requirement already satisfied: psutil in /home/codespace/.local/lib/python3.10/site-packages (from ipykernel>=4.5.1->ipywidgets==7.6.0->-r ../requirements.txt (line 1)) (5.9.8)\n",
      "Requirement already satisfied: pyzmq>=24 in /home/codespace/.local/lib/python3.10/site-packages (from ipykernel>=4.5.1->ipywidgets==7.6.0->-r ../requirements.txt (line 1)) (25.1.2)\n",
      "Requirement already satisfied: decorator in /home/codespace/.local/lib/python3.10/site-packages (from ipython>=4.0.0->ipywidgets==7.6.0->-r ../requirements.txt (line 1)) (5.1.1)\n",
      "Requirement already satisfied: jedi>=0.16 in /home/codespace/.local/lib/python3.10/site-packages (from ipython>=4.0.0->ipywidgets==7.6.0->-r ../requirements.txt (line 1)) (0.19.1)\n",
      "Requirement already satisfied: prompt-toolkit<3.1.0,>=3.0.41 in /home/codespace/.local/lib/python3.10/site-packages (from ipython>=4.0.0->ipywidgets==7.6.0->-r ../requirements.txt (line 1)) (3.0.43)\n",
      "Requirement already satisfied: pygments>=2.4.0 in /home/codespace/.local/lib/python3.10/site-packages (from ipython>=4.0.0->ipywidgets==7.6.0->-r ../requirements.txt (line 1)) (2.17.2)\n",
      "Requirement already satisfied: stack-data in /home/codespace/.local/lib/python3.10/site-packages (from ipython>=4.0.0->ipywidgets==7.6.0->-r ../requirements.txt (line 1)) (0.6.3)\n",
      "Requirement already satisfied: exceptiongroup in /home/codespace/.local/lib/python3.10/site-packages (from ipython>=4.0.0->ipywidgets==7.6.0->-r ../requirements.txt (line 1)) (1.2.0)\n",
      "Requirement already satisfied: pexpect>4.3 in /home/codespace/.local/lib/python3.10/site-packages (from ipython>=4.0.0->ipywidgets==7.6.0->-r ../requirements.txt (line 1)) (4.9.0)\n",
      "Requirement already satisfied: MarkupSafe>=2.0 in /home/codespace/.local/lib/python3.10/site-packages (from jinja2>=3.0.3->jupyterlab>=3.0.0->-r ../requirements.txt (line 2)) (2.1.5)\n",
      "Requirement already satisfied: platformdirs>=2.5 in /home/codespace/.local/lib/python3.10/site-packages (from jupyter-core->jupyterlab>=3.0.0->-r ../requirements.txt (line 2)) (4.2.0)\n",
      "Requirement already satisfied: argon2-cffi in /home/codespace/.local/lib/python3.10/site-packages (from jupyter-server<3,>=2.4.0->jupyterlab>=3.0.0->-r ../requirements.txt (line 2)) (23.1.0)\n",
      "Requirement already satisfied: jupyter-events>=0.9.0 in /home/codespace/.local/lib/python3.10/site-packages (from jupyter-server<3,>=2.4.0->jupyterlab>=3.0.0->-r ../requirements.txt (line 2)) (0.10.0)\n",
      "Requirement already satisfied: jupyter-server-terminals in /home/codespace/.local/lib/python3.10/site-packages (from jupyter-server<3,>=2.4.0->jupyterlab>=3.0.0->-r ../requirements.txt (line 2)) (0.5.3)\n",
      "Requirement already satisfied: nbconvert>=6.4.4 in /home/codespace/.local/lib/python3.10/site-packages (from jupyter-server<3,>=2.4.0->jupyterlab>=3.0.0->-r ../requirements.txt (line 2)) (7.16.3)\n",
      "Requirement already satisfied: overrides in /home/codespace/.local/lib/python3.10/site-packages (from jupyter-server<3,>=2.4.0->jupyterlab>=3.0.0->-r ../requirements.txt (line 2)) (7.7.0)\n",
      "Requirement already satisfied: prometheus-client in /home/codespace/.local/lib/python3.10/site-packages (from jupyter-server<3,>=2.4.0->jupyterlab>=3.0.0->-r ../requirements.txt (line 2)) (0.20.0)\n",
      "Requirement already satisfied: send2trash>=1.8.2 in /home/codespace/.local/lib/python3.10/site-packages (from jupyter-server<3,>=2.4.0->jupyterlab>=3.0.0->-r ../requirements.txt (line 2)) (1.8.2)\n",
      "Requirement already satisfied: terminado>=0.8.3 in /home/codespace/.local/lib/python3.10/site-packages (from jupyter-server<3,>=2.4.0->jupyterlab>=3.0.0->-r ../requirements.txt (line 2)) (0.18.1)\n",
      "Requirement already satisfied: websocket-client in /home/codespace/.local/lib/python3.10/site-packages (from jupyter-server<3,>=2.4.0->jupyterlab>=3.0.0->-r ../requirements.txt (line 2)) (1.7.0)\n",
      "Requirement already satisfied: babel>=2.10 in /home/codespace/.local/lib/python3.10/site-packages (from jupyterlab-server<3,>=2.19.0->jupyterlab>=3.0.0->-r ../requirements.txt (line 2)) (2.14.0)\n",
      "Requirement already satisfied: json5>=0.9.0 in /home/codespace/.local/lib/python3.10/site-packages (from jupyterlab-server<3,>=2.19.0->jupyterlab>=3.0.0->-r ../requirements.txt (line 2)) (0.9.24)\n",
      "Requirement already satisfied: jsonschema>=4.18.0 in /home/codespace/.local/lib/python3.10/site-packages (from jupyterlab-server<3,>=2.19.0->jupyterlab>=3.0.0->-r ../requirements.txt (line 2)) (4.21.1)\n",
      "Requirement already satisfied: requests>=2.31 in /home/codespace/.local/lib/python3.10/site-packages (from jupyterlab-server<3,>=2.19.0->jupyterlab>=3.0.0->-r ../requirements.txt (line 2)) (2.31.0)\n",
      "Requirement already satisfied: fastjsonschema in /home/codespace/.local/lib/python3.10/site-packages (from nbformat>=4.2.0->ipywidgets==7.6.0->-r ../requirements.txt (line 1)) (2.19.1)\n",
      "Requirement already satisfied: six>=1.5 in /home/codespace/.local/lib/python3.10/site-packages (from python-dateutil>=2.8.1->pandas==1.5.3->-r ../requirements.txt (line 4)) (1.16.0)\n",
      "Requirement already satisfied: parso<0.9.0,>=0.8.3 in /home/codespace/.local/lib/python3.10/site-packages (from jedi>=0.16->ipython>=4.0.0->ipywidgets==7.6.0->-r ../requirements.txt (line 1)) (0.8.3)\n",
      "Requirement already satisfied: attrs>=22.2.0 in /home/codespace/.local/lib/python3.10/site-packages (from jsonschema>=4.18.0->jupyterlab-server<3,>=2.19.0->jupyterlab>=3.0.0->-r ../requirements.txt (line 2)) (23.2.0)\n",
      "Requirement already satisfied: jsonschema-specifications>=2023.03.6 in /home/codespace/.local/lib/python3.10/site-packages (from jsonschema>=4.18.0->jupyterlab-server<3,>=2.19.0->jupyterlab>=3.0.0->-r ../requirements.txt (line 2)) (2023.12.1)\n",
      "Requirement already satisfied: referencing>=0.28.4 in /home/codespace/.local/lib/python3.10/site-packages (from jsonschema>=4.18.0->jupyterlab-server<3,>=2.19.0->jupyterlab>=3.0.0->-r ../requirements.txt (line 2)) (0.34.0)\n",
      "Requirement already satisfied: rpds-py>=0.7.1 in /home/codespace/.local/lib/python3.10/site-packages (from jsonschema>=4.18.0->jupyterlab-server<3,>=2.19.0->jupyterlab>=3.0.0->-r ../requirements.txt (line 2)) (0.18.0)\n",
      "Requirement already satisfied: python-json-logger>=2.0.4 in /home/codespace/.local/lib/python3.10/site-packages (from jupyter-events>=0.9.0->jupyter-server<3,>=2.4.0->jupyterlab>=3.0.0->-r ../requirements.txt (line 2)) (2.0.7)\n",
      "Requirement already satisfied: pyyaml>=5.3 in /home/codespace/.local/lib/python3.10/site-packages (from jupyter-events>=0.9.0->jupyter-server<3,>=2.4.0->jupyterlab>=3.0.0->-r ../requirements.txt (line 2)) (6.0.1)\n",
      "Requirement already satisfied: rfc3339-validator in /home/codespace/.local/lib/python3.10/site-packages (from jupyter-events>=0.9.0->jupyter-server<3,>=2.4.0->jupyterlab>=3.0.0->-r ../requirements.txt (line 2)) (0.1.4)\n",
      "Requirement already satisfied: rfc3986-validator>=0.1.1 in /home/codespace/.local/lib/python3.10/site-packages (from jupyter-events>=0.9.0->jupyter-server<3,>=2.4.0->jupyterlab>=3.0.0->-r ../requirements.txt (line 2)) (0.1.1)\n",
      "Requirement already satisfied: beautifulsoup4 in /home/codespace/.local/lib/python3.10/site-packages (from nbconvert>=6.4.4->jupyter-server<3,>=2.4.0->jupyterlab>=3.0.0->-r ../requirements.txt (line 2)) (4.12.3)\n",
      "Requirement already satisfied: bleach!=5.0.0 in /home/codespace/.local/lib/python3.10/site-packages (from nbconvert>=6.4.4->jupyter-server<3,>=2.4.0->jupyterlab>=3.0.0->-r ../requirements.txt (line 2)) (6.1.0)\n",
      "Requirement already satisfied: defusedxml in /home/codespace/.local/lib/python3.10/site-packages (from nbconvert>=6.4.4->jupyter-server<3,>=2.4.0->jupyterlab>=3.0.0->-r ../requirements.txt (line 2)) (0.7.1)\n",
      "Requirement already satisfied: jupyterlab-pygments in /home/codespace/.local/lib/python3.10/site-packages (from nbconvert>=6.4.4->jupyter-server<3,>=2.4.0->jupyterlab>=3.0.0->-r ../requirements.txt (line 2)) (0.3.0)\n",
      "Requirement already satisfied: mistune<4,>=2.0.3 in /home/codespace/.local/lib/python3.10/site-packages (from nbconvert>=6.4.4->jupyter-server<3,>=2.4.0->jupyterlab>=3.0.0->-r ../requirements.txt (line 2)) (3.0.2)\n",
      "Requirement already satisfied: nbclient>=0.5.0 in /home/codespace/.local/lib/python3.10/site-packages (from nbconvert>=6.4.4->jupyter-server<3,>=2.4.0->jupyterlab>=3.0.0->-r ../requirements.txt (line 2)) (0.10.0)\n",
      "Requirement already satisfied: pandocfilters>=1.4.1 in /home/codespace/.local/lib/python3.10/site-packages (from nbconvert>=6.4.4->jupyter-server<3,>=2.4.0->jupyterlab>=3.0.0->-r ../requirements.txt (line 2)) (1.5.1)\n",
      "Requirement already satisfied: tinycss2 in /home/codespace/.local/lib/python3.10/site-packages (from nbconvert>=6.4.4->jupyter-server<3,>=2.4.0->jupyterlab>=3.0.0->-r ../requirements.txt (line 2)) (1.2.1)\n",
      "Requirement already satisfied: ptyprocess>=0.5 in /home/codespace/.local/lib/python3.10/site-packages (from pexpect>4.3->ipython>=4.0.0->ipywidgets==7.6.0->-r ../requirements.txt (line 1)) (0.7.0)\n",
      "Requirement already satisfied: wcwidth in /home/codespace/.local/lib/python3.10/site-packages (from prompt-toolkit<3.1.0,>=3.0.41->ipython>=4.0.0->ipywidgets==7.6.0->-r ../requirements.txt (line 1)) (0.2.13)\n",
      "Requirement already satisfied: charset-normalizer<4,>=2 in /home/codespace/.local/lib/python3.10/site-packages (from requests>=2.31->jupyterlab-server<3,>=2.19.0->jupyterlab>=3.0.0->-r ../requirements.txt (line 2)) (3.3.2)\n",
      "Requirement already satisfied: urllib3<3,>=1.21.1 in /usr/local/python/3.10.13/lib/python3.10/site-packages (from requests>=2.31->jupyterlab-server<3,>=2.19.0->jupyterlab>=3.0.0->-r ../requirements.txt (line 2)) (2.0.7)\n",
      "Requirement already satisfied: argon2-cffi-bindings in /home/codespace/.local/lib/python3.10/site-packages (from argon2-cffi->jupyter-server<3,>=2.4.0->jupyterlab>=3.0.0->-r ../requirements.txt (line 2)) (21.2.0)\n",
      "Requirement already satisfied: executing>=1.2.0 in /home/codespace/.local/lib/python3.10/site-packages (from stack-data->ipython>=4.0.0->ipywidgets==7.6.0->-r ../requirements.txt (line 1)) (2.0.1)\n",
      "Requirement already satisfied: asttokens>=2.1.0 in /home/codespace/.local/lib/python3.10/site-packages (from stack-data->ipython>=4.0.0->ipywidgets==7.6.0->-r ../requirements.txt (line 1)) (2.4.1)\n",
      "Requirement already satisfied: pure-eval in /home/codespace/.local/lib/python3.10/site-packages (from stack-data->ipython>=4.0.0->ipywidgets==7.6.0->-r ../requirements.txt (line 1)) (0.2.2)\n",
      "Requirement already satisfied: webencodings in /home/codespace/.local/lib/python3.10/site-packages (from bleach!=5.0.0->nbconvert>=6.4.4->jupyter-server<3,>=2.4.0->jupyterlab>=3.0.0->-r ../requirements.txt (line 2)) (0.5.1)\n",
      "Requirement already satisfied: fqdn in /home/codespace/.local/lib/python3.10/site-packages (from jsonschema[format-nongpl]>=4.18.0->jupyter-events>=0.9.0->jupyter-server<3,>=2.4.0->jupyterlab>=3.0.0->-r ../requirements.txt (line 2)) (1.5.1)\n",
      "Requirement already satisfied: isoduration in /home/codespace/.local/lib/python3.10/site-packages (from jsonschema[format-nongpl]>=4.18.0->jupyter-events>=0.9.0->jupyter-server<3,>=2.4.0->jupyterlab>=3.0.0->-r ../requirements.txt (line 2)) (20.11.0)\n",
      "Requirement already satisfied: jsonpointer>1.13 in /home/codespace/.local/lib/python3.10/site-packages (from jsonschema[format-nongpl]>=4.18.0->jupyter-events>=0.9.0->jupyter-server<3,>=2.4.0->jupyterlab>=3.0.0->-r ../requirements.txt (line 2)) (2.4)\n",
      "Requirement already satisfied: uri-template in /home/codespace/.local/lib/python3.10/site-packages (from jsonschema[format-nongpl]>=4.18.0->jupyter-events>=0.9.0->jupyter-server<3,>=2.4.0->jupyterlab>=3.0.0->-r ../requirements.txt (line 2)) (1.3.0)\n",
      "Requirement already satisfied: webcolors>=1.11 in /home/codespace/.local/lib/python3.10/site-packages (from jsonschema[format-nongpl]>=4.18.0->jupyter-events>=0.9.0->jupyter-server<3,>=2.4.0->jupyterlab>=3.0.0->-r ../requirements.txt (line 2)) (1.13)\n",
      "Requirement already satisfied: cffi>=1.0.1 in /home/codespace/.local/lib/python3.10/site-packages (from argon2-cffi-bindings->argon2-cffi->jupyter-server<3,>=2.4.0->jupyterlab>=3.0.0->-r ../requirements.txt (line 2)) (1.16.0)\n",
      "Requirement already satisfied: soupsieve>1.2 in /home/codespace/.local/lib/python3.10/site-packages (from beautifulsoup4->nbconvert>=6.4.4->jupyter-server<3,>=2.4.0->jupyterlab>=3.0.0->-r ../requirements.txt (line 2)) (2.5)\n",
      "Requirement already satisfied: pycparser in /home/codespace/.local/lib/python3.10/site-packages (from cffi>=1.0.1->argon2-cffi-bindings->argon2-cffi->jupyter-server<3,>=2.4.0->jupyterlab>=3.0.0->-r ../requirements.txt (line 2)) (2.22)\n",
      "Requirement already satisfied: arrow>=0.15.0 in /home/codespace/.local/lib/python3.10/site-packages (from isoduration->jsonschema[format-nongpl]>=4.18.0->jupyter-events>=0.9.0->jupyter-server<3,>=2.4.0->jupyterlab>=3.0.0->-r ../requirements.txt (line 2)) (1.3.0)\n",
      "Requirement already satisfied: types-python-dateutil>=2.8.10 in /home/codespace/.local/lib/python3.10/site-packages (from arrow>=0.15.0->isoduration->jsonschema[format-nongpl]>=4.18.0->jupyter-events>=0.9.0->jupyter-server<3,>=2.4.0->jupyterlab>=3.0.0->-r ../requirements.txt (line 2)) (2.9.0.20240316)\n",
      "Downloading ipywidgets-7.6.0-py2.py3-none-any.whl (121 kB)\n",
      "\u001b[2K   \u001b[90m━━━━━━━━━━━━━━━━━━━━━━━━━━━━━━━━━━━━━━━\u001b[0m \u001b[32m121.8/121.8 kB\u001b[0m \u001b[31m843.5 kB/s\u001b[0m eta \u001b[36m0:00:00\u001b[0m \u001b[36m0:00:01\u001b[0m\n",
      "\u001b[?25hInstalling collected packages: ipywidgets\n",
      "  Attempting uninstall: ipywidgets\n",
      "    Found existing installation: ipywidgets 7.6.5\n",
      "    Uninstalling ipywidgets-7.6.5:\n",
      "      Successfully uninstalled ipywidgets-7.6.5\n",
      "Successfully installed ipywidgets-7.6.0\n"
     ]
    }
   ],
   "source": [
    "! pip install -r ../requirements.txt"
   ]
  }
 ],
 "metadata": {
  "kernelspec": {
   "display_name": "Python 3",
   "language": "python",
   "name": "python3"
  },
  "language_info": {
   "codemirror_mode": {
    "name": "ipython",
    "version": 3
   },
   "file_extension": ".py",
   "mimetype": "text/x-python",
   "name": "python",
   "nbconvert_exporter": "python",
   "pygments_lexer": "ipython3",
   "version": "3.10.13"
  }
 },
 "nbformat": 4,
 "nbformat_minor": 2
}
